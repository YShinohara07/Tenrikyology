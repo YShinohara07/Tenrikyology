{
 "cells": [
  {
   "cell_type": "code",
   "execution_count": 2,
   "metadata": {},
   "outputs": [],
   "source": [
    "import pandas as pd\n",
    "import re"
   ]
  },
  {
   "cell_type": "code",
   "execution_count": null,
   "metadata": {},
   "outputs": [],
   "source": [
    "section =dict(\n",
    "    research = [\n",
    "        \"Blogging-Anecdotes-of-Oyasama\",\n",
    "        \"life-of-the-honseki-izo-iburi\"],\n",
    "    scripture = [\n",
    "        \"mikagura-uta-the-songs-for-the-service\",\n",
    "        \"ofudesaki-tip-of-the-writing-brush\"],\n",
    "    Tenrikyo101 = [\n",
    "        \"the-eight-dusts-of-the-mind\",\n",
    "        \"the-nine-instruments-of-the-body\",\n",
    "        \"the-ten-aspects-of-the-cosmic-providence-list\"],\n",
    "    translations = [\n",
    "        \"anecdotes-of-the-honseki\",\n",
    "        \"cornerstone\",\n",
    "        \"essays-on-truth-of-origin\",\n",
    "        \"footsteps-of-our-predecessors\",\n",
    "        \"tenrikyo-apocrypha\",\n",
    "        \"tenrikyo-fundamentals\"]\n",
    "        )\n",
    "print(\"*\"*5,'Header names',\"*\"*5)\n",
    "cnt=0\n",
    "for header in section.keys():\n",
    "    for i in range(len(section[header])):\n",
    "        print(cnt, section[header][i])\n",
    "        cnt+=1\n",
    "\n",
    "links = []\n",
    "header = 'http://tenrikyology.com/'\n",
    "for x in section.keys():\n",
    "    for i in range(len(section[x])):\n",
    "        links.append(header+x+'/'+section[x][i])\n",
    "print('\\n',\"*\"*5,'Parsed Links',\"*\"*5)\n",
    "test = links[3]\n",
    "print('\\n test link: {}'.format(test))\n",
    "\n",
    "'''\n",
    "In cmd pmt:\n",
    "scrapy shell http://tenrikyology.com/scripture/ofudesaki-tip-of-the-writing-brush\n",
    "response.xpath('//div[@class=\"entry-content\"]/ul/li/a/@href').extract()\n",
    "'''"
   ]
  },
  {
   "cell_type": "code",
   "execution_count": 3,
   "metadata": {},
   "outputs": [],
   "source": [
    "df = pd.read_csv('TenrikyologyContent.csv')"
   ]
  },
  {
   "cell_type": "code",
   "execution_count": 22,
   "metadata": {},
   "outputs": [
    {
     "output_type": "execute_result",
     "data": {
      "text/plain": "Index(['cat', 'content', 'entry_date', 'tag', 'title'], dtype='object')"
     },
     "metadata": {},
     "execution_count": 22
    }
   ],
   "source": [
    "df.columns"
   ]
  },
  {
   "cell_type": "code",
   "execution_count": 73,
   "metadata": {},
   "outputs": [
    {
     "data": {
      "text/plain": [
       "'<time class=\"entry-date\" datetime=\"2016-01-20T00:00:50+00:00\">January 20, 2016</time>'"
      ]
     },
     "execution_count": 73,
     "metadata": {},
     "output_type": "execute_result"
    }
   ],
   "source": [
    "# Converting str to datetime\n",
    "df.entry_date[0]"
   ]
  },
  {
   "cell_type": "code",
   "execution_count": 74,
   "metadata": {},
   "outputs": [
    {
     "data": {
      "text/plain": [
       "Timestamp('2016-01-20 00:00:50+0000', tz='UTC')"
      ]
     },
     "execution_count": 74,
     "metadata": {},
     "output_type": "execute_result"
    }
   ],
   "source": [
    "for i in range(len(df)):\n",
    "    df.entry_date[i] = re.findall('datetime=\"(.+)\"', df.entry_date[i])[0]\n",
    "\n",
    "df.entry_date = pd.to_datetime(df.entry_date)\n",
    "df.entry_date[0]"
   ]
  },
  {
   "cell_type": "code",
   "execution_count": 10,
   "metadata": {},
   "outputs": [],
   "source": [
    "options = [dict(label=i,value=i) for i in df[df.columns[0]].dropna().unique()]"
   ]
  },
  {
   "cell_type": "code",
   "execution_count": 11,
   "metadata": {},
   "outputs": [
    {
     "output_type": "execute_result",
     "data": {
      "text/plain": "                               cat  \\\n0                              NaN   \n1    Blogging Anecdotes of Oyasama   \n2    Blogging Anecdotes of Oyasama   \n3    Blogging Anecdotes of Oyasama   \n4    Blogging Anecdotes of Oyasama   \n..                             ...   \n429  Blogging Anecdotes of Oyasama   \n430  Blogging Anecdotes of Oyasama   \n431  Blogging Anecdotes of Oyasama   \n432  Blogging Anecdotes of Oyasama   \n433  Blogging Anecdotes of Oyasama   \n\n                                                 title  \n0                                                  NaN  \n1          Blogging Anecdotes of Oyasama, Introduction  \n2                     Blogging Anecdotes of Oyasama 33  \n3                     Blogging Anecdotes of Oyasama 32  \n4                     Blogging Anecdotes of Oyasama 31  \n..                                                 ...  \n429  Blogging Anecdotes of Oyasama 3 (part two: Ins...  \n430         Blogging Anecdotes of Oyasama 3 (part one)  \n431                    Blogging Anecdotes of Oyasama 2  \n432                    Blogging Anecdotes of Oyasama 1  \n433                   Blogging Anecdotes of Oyasama 15  \n\n[434 rows x 2 columns]",
      "text/html": "<div>\n<style scoped>\n    .dataframe tbody tr th:only-of-type {\n        vertical-align: middle;\n    }\n\n    .dataframe tbody tr th {\n        vertical-align: top;\n    }\n\n    .dataframe thead th {\n        text-align: right;\n    }\n</style>\n<table border=\"1\" class=\"dataframe\">\n  <thead>\n    <tr style=\"text-align: right;\">\n      <th></th>\n      <th>cat</th>\n      <th>title</th>\n    </tr>\n  </thead>\n  <tbody>\n    <tr>\n      <th>0</th>\n      <td>NaN</td>\n      <td>NaN</td>\n    </tr>\n    <tr>\n      <th>1</th>\n      <td>Blogging Anecdotes of Oyasama</td>\n      <td>Blogging Anecdotes of Oyasama, Introduction</td>\n    </tr>\n    <tr>\n      <th>2</th>\n      <td>Blogging Anecdotes of Oyasama</td>\n      <td>Blogging Anecdotes of Oyasama 33</td>\n    </tr>\n    <tr>\n      <th>3</th>\n      <td>Blogging Anecdotes of Oyasama</td>\n      <td>Blogging Anecdotes of Oyasama 32</td>\n    </tr>\n    <tr>\n      <th>4</th>\n      <td>Blogging Anecdotes of Oyasama</td>\n      <td>Blogging Anecdotes of Oyasama 31</td>\n    </tr>\n    <tr>\n      <th>...</th>\n      <td>...</td>\n      <td>...</td>\n    </tr>\n    <tr>\n      <th>429</th>\n      <td>Blogging Anecdotes of Oyasama</td>\n      <td>Blogging Anecdotes of Oyasama 3 (part two: Ins...</td>\n    </tr>\n    <tr>\n      <th>430</th>\n      <td>Blogging Anecdotes of Oyasama</td>\n      <td>Blogging Anecdotes of Oyasama 3 (part one)</td>\n    </tr>\n    <tr>\n      <th>431</th>\n      <td>Blogging Anecdotes of Oyasama</td>\n      <td>Blogging Anecdotes of Oyasama 2</td>\n    </tr>\n    <tr>\n      <th>432</th>\n      <td>Blogging Anecdotes of Oyasama</td>\n      <td>Blogging Anecdotes of Oyasama 1</td>\n    </tr>\n    <tr>\n      <th>433</th>\n      <td>Blogging Anecdotes of Oyasama</td>\n      <td>Blogging Anecdotes of Oyasama 15</td>\n    </tr>\n  </tbody>\n</table>\n<p>434 rows × 2 columns</p>\n</div>"
     },
     "metadata": {},
     "execution_count": 11
    }
   ],
   "source": [
    "df[[df.columns[0],df.columns[4]]]"
   ]
  },
  {
   "cell_type": "code",
   "execution_count": 4,
   "metadata": {},
   "outputs": [],
   "source": [
    "def filter_dropdown(dropdown_value):\n",
    "    return df.loc[ df[df.columns[0]] == dropdown_value, df.columns[4] ].dropna().unique()"
   ]
  },
  {
   "cell_type": "code",
   "execution_count": 5,
   "metadata": {},
   "outputs": [],
   "source": [
    "lst_titles_blogging = filter_dropdown(df[df.columns[0]][1])"
   ]
  },
  {
   "cell_type": "code",
   "execution_count": 8,
   "metadata": {},
   "outputs": [],
   "source": [
    "def display_content(cat, title):\n",
    "    return df.loc[ (df[df.columns[0]]==cat) & (df[df.columns[4]]==title) ]"
   ]
  },
  {
   "cell_type": "code",
   "execution_count": 9,
   "metadata": {},
   "outputs": [
    {
     "output_type": "execute_result",
     "data": {
      "text/plain": "Empty DataFrame\nColumns: [cat, content, entry_date, tag, title]\nIndex: []",
      "text/html": "<div>\n<style scoped>\n    .dataframe tbody tr th:only-of-type {\n        vertical-align: middle;\n    }\n\n    .dataframe tbody tr th {\n        vertical-align: top;\n    }\n\n    .dataframe thead th {\n        text-align: right;\n    }\n</style>\n<table border=\"1\" class=\"dataframe\">\n  <thead>\n    <tr style=\"text-align: right;\">\n      <th></th>\n      <th>cat</th>\n      <th>content</th>\n      <th>entry_date</th>\n      <th>tag</th>\n      <th>title</th>\n    </tr>\n  </thead>\n  <tbody>\n  </tbody>\n</table>\n</div>"
     },
     "metadata": {},
     "execution_count": 9
    }
   ],
   "source": [
    "display_content('Blogging Anecdotes of OyasamaBlogging Anecdotes of Oyasama','Blogging Anecdotes of Oyasama 33Blogging Anecdotes of Oyasama 33')"
   ]
  },
  {
   "cell_type": "code",
   "execution_count": null,
   "metadata": {},
   "outputs": [],
   "source": []
  }
 ],
 "metadata": {
  "kernelspec": {
   "display_name": "Python 3.8.0 32-bit",
   "language": "python",
   "name": "python_defaultSpec_1594763327828"
  },
  "language_info": {
   "codemirror_mode": {
    "name": "ipython",
    "version": 3
   },
   "file_extension": ".py",
   "mimetype": "text/x-python",
   "name": "python",
   "nbconvert_exporter": "python",
   "pygments_lexer": "ipython3",
   "version": "3.8.0-final"
  }
 },
 "nbformat": 4,
 "nbformat_minor": 2
}