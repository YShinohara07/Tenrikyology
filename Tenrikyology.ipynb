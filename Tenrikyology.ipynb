{
 "cells": [
  {
   "cell_type": "code",
   "execution_count": 2,
   "metadata": {},
   "outputs": [],
   "source": [
    "import pandas as pd\n",
    "import re"
   ]
  },
  {
   "cell_type": "code",
   "execution_count": null,
   "metadata": {},
   "outputs": [],
   "source": [
    "section =dict(\n",
    "    research = [\n",
    "        \"Blogging-Anecdotes-of-Oyasama\",\n",
    "        \"life-of-the-honseki-izo-iburi\"],\n",
    "    scripture = [\n",
    "        \"mikagura-uta-the-songs-for-the-service\",\n",
    "        \"ofudesaki-tip-of-the-writing-brush\"],\n",
    "    Tenrikyo101 = [\n",
    "        \"the-eight-dusts-of-the-mind\",\n",
    "        \"the-nine-instruments-of-the-body\",\n",
    "        \"the-ten-aspects-of-the-cosmic-providence-list\"],\n",
    "    translations = [\n",
    "        \"anecdotes-of-the-honseki\",\n",
    "        \"cornerstone\",\n",
    "        \"essays-on-truth-of-origin\",\n",
    "        \"footsteps-of-our-predecessors\",\n",
    "        \"tenrikyo-apocrypha\",\n",
    "        \"tenrikyo-fundamentals\"]\n",
    "        )\n",
    "print(\"*\"*5,'Header names',\"*\"*5)\n",
    "cnt=0\n",
    "for header in section.keys():\n",
    "    for i in range(len(section[header])):\n",
    "        print(cnt, section[header][i])\n",
    "        cnt+=1\n",
    "\n",
    "links = []\n",
    "header = 'http://tenrikyology.com/'\n",
    "for x in section.keys():\n",
    "    for i in range(len(section[x])):\n",
    "        links.append(header+x+'/'+section[x][i])\n",
    "print('\\n',\"*\"*5,'Parsed Links',\"*\"*5)\n",
    "test = links[3]\n",
    "print('\\n test link: {}'.format(test))\n",
    "\n",
    "'''\n",
    "In cmd pmt:\n",
    "scrapy shell http://tenrikyology.com/scripture/ofudesaki-tip-of-the-writing-brush\n",
    "response.xpath('//div[@class=\"entry-content\"]/ul/li/a/@href').extract()\n",
    "'''"
   ]
  },
  {
   "cell_type": "code",
   "execution_count": 3,
   "metadata": {},
   "outputs": [],
   "source": [
    "df = pd.read_csv('TenrikyologyContent.csv')"
   ]
  },
  {
   "cell_type": "code",
   "execution_count": 9,
   "metadata": {},
   "outputs": [
    {
     "output_type": "execute_result",
     "data": {
      "text/plain": "[{'label': 'Blogging Anecdotes of Oyasama',\n  'value': 'Blogging Anecdotes of Oyasama'},\n {'label': 'Life of the Honseki,, ,Translations',\n  'value': 'Life of the Honseki,, ,Translations'},\n {'label': 'Twelve Songs Commentary', 'value': 'Twelve Songs Commentary'},\n {'label': 'Scripture', 'value': 'Scripture'},\n {'label': 'Cornerstone: The Faith and Life of Genjiro Kashihara,, ,Translations',\n  'value': 'Cornerstone: The Faith and Life of Genjiro Kashihara,, ,Translations'},\n {'label': 'Essays on the Truth of Origin,, ,Translations',\n  'value': 'Essays on the Truth of Origin,, ,Translations'},\n {'label': 'Apocrypha,, ,Translations', 'value': 'Apocrypha,, ,Translations'},\n {'label': 'Tenrikyo Fundamentals,, ,Translations',\n  'value': 'Tenrikyo Fundamentals,, ,Translations'},\n {'label': 'Uncategorized', 'value': 'Uncategorized'},\n {'label': 'Blogging Anecdotes of Oyasama,, ,Scripture',\n  'value': 'Blogging Anecdotes of Oyasama,, ,Scripture'},\n {'label': 'Mikagura-uta, The Songs for the Service',\n  'value': 'Mikagura-uta, The Songs for the Service'},\n {'label': 'Life of the Honseki', 'value': 'Life of the Honseki'},\n {'label': 'Ask the Tenrikyologist', 'value': 'Ask the Tenrikyologist'}]"
     },
     "metadata": {},
     "execution_count": 9
    }
   ],
   "source": [
    "[dict(label=i,value=i) for i in df[df.columns[0]].dropna().unique()]"
   ]
  },
  {
   "cell_type": "code",
   "execution_count": 73,
   "metadata": {},
   "outputs": [
    {
     "data": {
      "text/plain": [
       "'<time class=\"entry-date\" datetime=\"2016-01-20T00:00:50+00:00\">January 20, 2016</time>'"
      ]
     },
     "execution_count": 73,
     "metadata": {},
     "output_type": "execute_result"
    }
   ],
   "source": [
    "# Converting str to datetime\n",
    "df.entry_date[0]"
   ]
  },
  {
   "cell_type": "code",
   "execution_count": 74,
   "metadata": {},
   "outputs": [
    {
     "data": {
      "text/plain": [
       "Timestamp('2016-01-20 00:00:50+0000', tz='UTC')"
      ]
     },
     "execution_count": 74,
     "metadata": {},
     "output_type": "execute_result"
    }
   ],
   "source": [
    "for i in range(len(df)):\n",
    "    df.entry_date[i] = re.findall('datetime=\"(.+)\"', df.entry_date[i])[0]\n",
    "\n",
    "df.entry_date = pd.to_datetime(df.entry_date)\n",
    "df.entry_date[0]"
   ]
  },
  {
   "cell_type": "code",
   "execution_count": null,
   "metadata": {},
   "outputs": [],
   "source": []
  }
 ],
 "metadata": {
  "kernelspec": {
   "display_name": "Python 3",
   "language": "python",
   "name": "python3"
  },
  "language_info": {
   "codemirror_mode": {
    "name": "ipython",
    "version": 3
   },
   "file_extension": ".py",
   "mimetype": "text/x-python",
   "name": "python",
   "nbconvert_exporter": "python",
   "pygments_lexer": "ipython3",
   "version": "3.8.0-final"
  }
 },
 "nbformat": 4,
 "nbformat_minor": 2
}