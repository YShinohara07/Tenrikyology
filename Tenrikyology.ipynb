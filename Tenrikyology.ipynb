{
 "cells": [
  {
   "cell_type": "code",
   "execution_count": 2,
   "metadata": {},
   "outputs": [],
   "source": [
    "import pandas as pd\n",
    "import re"
   ]
  },
  {
   "cell_type": "code",
   "execution_count": null,
   "metadata": {},
   "outputs": [],
   "source": [
    "section =dict(\n",
    "    research = [\n",
    "        \"Blogging-Anecdotes-of-Oyasama\",\n",
    "        \"life-of-the-honseki-izo-iburi\"],\n",
    "    scripture = [\n",
    "        \"mikagura-uta-the-songs-for-the-service\",\n",
    "        \"ofudesaki-tip-of-the-writing-brush\"],\n",
    "    Tenrikyo101 = [\n",
    "        \"the-eight-dusts-of-the-mind\",\n",
    "        \"the-nine-instruments-of-the-body\",\n",
    "        \"the-ten-aspects-of-the-cosmic-providence-list\"],\n",
    "    translations = [\n",
    "        \"anecdotes-of-the-honseki\",\n",
    "        \"cornerstone\",\n",
    "        \"essays-on-truth-of-origin\",\n",
    "        \"footsteps-of-our-predecessors\",\n",
    "        \"tenrikyo-apocrypha\",\n",
    "        \"tenrikyo-fundamentals\"]\n",
    "        )\n",
    "print(\"*\"*5,'Header names',\"*\"*5)\n",
    "cnt=0\n",
    "for header in section.keys():\n",
    "    for i in range(len(section[header])):\n",
    "        print(cnt, section[header][i])\n",
    "        cnt+=1\n",
    "\n",
    "links = []\n",
    "header = 'http://tenrikyology.com/'\n",
    "for x in section.keys():\n",
    "    for i in range(len(section[x])):\n",
    "        links.append(header+x+'/'+section[x][i])\n",
    "print('\\n',\"*\"*5,'Parsed Links',\"*\"*5)\n",
    "test = links[3]\n",
    "print('\\n test link: {}'.format(test))\n",
    "\n",
    "'''\n",
    "In cmd pmt:\n",
    "scrapy shell http://tenrikyology.com/scripture/ofudesaki-tip-of-the-writing-brush\n",
    "response.xpath('//div[@class=\"entry-content\"]/ul/li/a/@href').extract()\n",
    "'''"
   ]
  },
  {
   "cell_type": "code",
   "execution_count": 3,
   "metadata": {},
   "outputs": [],
   "source": [
    "df = pd.read_csv('TenrikyologyContent.csv')"
   ]
  },
  {
   "cell_type": "code",
   "execution_count": 22,
   "metadata": {},
   "outputs": [
    {
     "output_type": "execute_result",
     "data": {
      "text/plain": "Index(['cat', 'content', 'entry_date', 'tag', 'title'], dtype='object')"
     },
     "metadata": {},
     "execution_count": 22
    }
   ],
   "source": [
    "df.columns"
   ]
  },
  {
   "cell_type": "code",
   "execution_count": 73,
   "metadata": {},
   "outputs": [
    {
     "data": {
      "text/plain": [
       "'<time class=\"entry-date\" datetime=\"2016-01-20T00:00:50+00:00\">January 20, 2016</time>'"
      ]
     },
     "execution_count": 73,
     "metadata": {},
     "output_type": "execute_result"
    }
   ],
   "source": [
    "# Converting str to datetime\n",
    "df.entry_date[0]"
   ]
  },
  {
   "cell_type": "code",
   "execution_count": 74,
   "metadata": {},
   "outputs": [
    {
     "data": {
      "text/plain": [
       "Timestamp('2016-01-20 00:00:50+0000', tz='UTC')"
      ]
     },
     "execution_count": 74,
     "metadata": {},
     "output_type": "execute_result"
    }
   ],
   "source": [
    "for i in range(len(df)):\n",
    "    df.entry_date[i] = re.findall('datetime=\"(.+)\"', df.entry_date[i])[0]\n",
    "\n",
    "df.entry_date = pd.to_datetime(df.entry_date)\n",
    "df.entry_date[0]"
   ]
  },
  {
   "cell_type": "code",
   "execution_count": 10,
   "metadata": {},
   "outputs": [],
   "source": [
    "options = [dict(label=i,value=i) for i in df[df.columns[0]].dropna().unique()]"
   ]
  },
  {
   "cell_type": "code",
   "execution_count": 23,
   "metadata": {},
   "outputs": [
    {
     "output_type": "execute_result",
     "data": {
      "text/plain": "                             cat                                        title\n0                            NaN                                          NaN\n1  Blogging Anecdotes of Oyasama  Blogging Anecdotes of Oyasama, Introduction\n2  Blogging Anecdotes of Oyasama             Blogging Anecdotes of Oyasama 33\n3  Blogging Anecdotes of Oyasama             Blogging Anecdotes of Oyasama 32\n4  Blogging Anecdotes of Oyasama             Blogging Anecdotes of Oyasama 31",
      "text/html": "<div>\n<style scoped>\n    .dataframe tbody tr th:only-of-type {\n        vertical-align: middle;\n    }\n\n    .dataframe tbody tr th {\n        vertical-align: top;\n    }\n\n    .dataframe thead th {\n        text-align: right;\n    }\n</style>\n<table border=\"1\" class=\"dataframe\">\n  <thead>\n    <tr style=\"text-align: right;\">\n      <th></th>\n      <th>cat</th>\n      <th>title</th>\n    </tr>\n  </thead>\n  <tbody>\n    <tr>\n      <th>0</th>\n      <td>NaN</td>\n      <td>NaN</td>\n    </tr>\n    <tr>\n      <th>1</th>\n      <td>Blogging Anecdotes of Oyasama</td>\n      <td>Blogging Anecdotes of Oyasama, Introduction</td>\n    </tr>\n    <tr>\n      <th>2</th>\n      <td>Blogging Anecdotes of Oyasama</td>\n      <td>Blogging Anecdotes of Oyasama 33</td>\n    </tr>\n    <tr>\n      <th>3</th>\n      <td>Blogging Anecdotes of Oyasama</td>\n      <td>Blogging Anecdotes of Oyasama 32</td>\n    </tr>\n    <tr>\n      <th>4</th>\n      <td>Blogging Anecdotes of Oyasama</td>\n      <td>Blogging Anecdotes of Oyasama 31</td>\n    </tr>\n  </tbody>\n</table>\n</div>"
     },
     "metadata": {},
     "execution_count": 23
    }
   ],
   "source": [
    "df[[df.columns[0],df.columns[4]]].head()"
   ]
  },
  {
   "cell_type": "code",
   "execution_count": 40,
   "metadata": {},
   "outputs": [],
   "source": [
    "def filter_dropdown(dropdown_value):\n",
    "    return df.loc[ df[df.columns[0]] == dropdown_value, df.columns[4] ].dropna().unique()"
   ]
  },
  {
   "cell_type": "code",
   "execution_count": 41,
   "metadata": {},
   "outputs": [
    {
     "output_type": "execute_result",
     "data": {
      "text/plain": "array(['Blogging Anecdotes of Oyasama, Introduction',\n       'Blogging Anecdotes of Oyasama 33',\n       'Blogging Anecdotes of Oyasama 32',\n       'Blogging Anecdotes of Oyasama 31',\n       'Blogging Anecdotes of Oyasama:Coda',\n       'Blogging Anecdotes of Oyasama 200',\n       'Blogging Anecdotes of Oyasama 199',\n       'Blogging Anecdotes of Oyasama 198',\n       'Blogging Anecdotes of Oyasama 197',\n       'Blogging Anecdotes of Oyasama 196',\n       'Blogging Anecdotes of Oyasama 195',\n       'Blogging Anecdotes of Oyasama 194',\n       'Blogging Anecdotes of Oyasama 192 and 193',\n       'Blogging Anecdotes of Oyasama 191',\n       'Blogging Anecdotes of Oyasama 190',\n       'Blogging Anecdotes of Oyasama 189',\n       'Blogging Anecdotes of Oyasama 188',\n       'Blogging Anecdotes of Oyasama 187',\n       'Blogging Anecdotes of Oyasama 186',\n       'Blogging Anecdotes of Oyasama 185',\n       'Blogging Anecdotes of Oyasama 184',\n       'Blogging Anecdotes of Oyasama 183',\n       'Blogging Anecdotes of Oyasama 182',\n       'Blogging Anecdotes of Oyasama  181',\n       'Blogging Anecdotes of Oyasama  180',\n       'Blogging Anecdotes of Oyasama  179',\n       'Blogging Anecdotes of Oyasama  178',\n       'Blogging Anecdotes of Oyasama  177',\n       'Blogging Anecdotes of Oyasama 176',\n       'Blogging Anecdotes of Oyasama 175',\n       'Blogging Anecdotes of Oyasama  174',\n       'Blogging Anecdotes of Oyasama 173',\n       'Blogging Anecdotes of Oyasama 172',\n       'Blogging Anecdotes of Oyasama 171',\n       'Blogging Anecdotes of Oyasama 170',\n       'Blogging Anecdotes of Oyasama 169',\n       'Blogging Anecdotes of Oyasama 168',\n       'Blogging Anecdotes of Oyasama 167',\n       'Blogging Anecdotes of Oyasama 166',\n       'Blogging Anecdotes of Oyasama 165',\n       'Blogging Anecdotes of Oyasama 164',\n       'Blogging Anecdotes of Oyasama 163',\n       'Blogging Anecdotes of Oyasama 162',\n       'Blogging Anecdotes of Oyasama 161',\n       'Blogging Anecdotes of Oyasama 160',\n       'Blogging Anecdotes of Oyasama 159',\n       'Blogging Anecdotes of Oyasama 158',\n       'Blogging Anecdotes of Oyasama 157',\n       'Blogging Anecdotes of Oyasama 156',\n       'Blogging Anecdotes of Oyasama 155',\n       'Blogging Anecdotes of Oyasama 153 and 154',\n       'Blogging Anecdotes of Oyasama 152',\n       'Blogging Anecdotes of Oyasama 151',\n       'Blogging Anecdotes of Oyasama 149 and 150',\n       'Blogging Anecdotes of Oyasama 148',\n       'Blogging Anecdotes of Oyasama 147',\n       'Blogging Anecdotes of Oyasama 146',\n       'Blogging Anecdotes of Oyasama 145',\n       'Blogging Anecdotes of Oyasama 144',\n       'Blogging Anecdotes of Oyasama 142 and 143',\n       'Blogging Anecdotes of Oyasama 141',\n       'Blogging Anecdotes of Oyasama 140',\n       'Blogging Anecdotes of Oyasama 139',\n       'Blogging Anecdotes of Oyasama 138',\n       'Blogging Anecdotes of Oyasama 137',\n       'Blogging Anecdotes of Oyasama 136',\n       'Blogging Anecdotes of Oyasama 135',\n       'Blogging Anecdotes of Oyasama 134',\n       'Blogging Anecdotes of Oyasama 133',\n       'Blogging Anecdotes of Oyasama 132',\n       'Blogging Anecdotes of Oyasama 131',\n       'Blogging Anecdotes of Oyasama 130',\n       'Blogging Anecdotes of Oyasama 129',\n       'Blogging Anecdotes of Oyasama 128',\n       'Blogging Anecdotes of Oyasama 127',\n       'Blogging Anecdotes of Oyasama 126',\n       'Blogging Anecdotes of Oyasama 125',\n       'Blogging Anecdotes of Oyasama 124',\n       'Blogging Anecdotes of Oyasama 123',\n       'Blogging Anecdotes of Oyasama 122',\n       'Blogging Anecdotes of Oyasama 121',\n       'Blogging Anecdotes of Oyasama 120',\n       'Blogging Anecdotes of Oyasama 119',\n       'Blogging Anecdotes of Oyasama 118',\n       'Blogging Anecdotes of Oyasama 117',\n       'Blogging Anecdotes of Oyasama 116',\n       'Blogging Anecdotes of Oyasama 115',\n       'Blogging Anecdotes of Oyasama 114',\n       'Blogging Anecdotes of Oyasama 113',\n       'Blogging Anecdotes of Oyasama 112',\n       'Blogging Anecdotes of Oyasama 111',\n       'Blogging Anecdotes of Oyasama 110',\n       'Blogging Anecdotes of Oyasama 109',\n       'Blogging Anecdotes of Oyasama 108',\n       'Blogging Anecdotes of Oyasama 107',\n       'Blogging Anecdotes of Oyasama 106',\n       'Blogging Anecdotes of Oyasama 105',\n       'Blogging Anecdotes of Oyasama 104',\n       'Blogging Anecdotes of Oyasama 103',\n       'Blogging Anecdotes of Oyasama 102',\n       'Blogging Anecdotes of Oyasama 101',\n       'Blogging Anecdotes of Oyasama 100',\n       'Blogging Anecdotes of Oyasama 99',\n       'Blogging Anecdotes of Oyasama 98',\n       'Blogging Anecdotes of Oyasama 97',\n       'Blogging Anecdotes of Oyasama 96',\n       'Blogging Anecdotes of Oyasama 95',\n       'Blogging Anecdotes of Oyasama 94',\n       'Blogging Anecdotes of Oyasama 93',\n       'Blogging Anecdotes of Oyasama 92',\n       'Blogging Anecdotes of Oyasama 91',\n       'Blogging Anecdotes of Oyasama 90',\n       'Blogging Anecdotes of Oyasama 89',\n       'Blogging Anecdotes of Oyasama 88',\n       'Blogging Anecdotes of Oyasama 87',\n       'Blogging Anecdotes of Oyasama 86',\n       'Blogging Anecdotes of Oyasama 85',\n       'Blogging Anecdotes of Oyasama 84',\n       'Blogging Anecdotes of Oyasama 83',\n       'Blogging Anecdotes of Oyasama 82',\n       'Blogging Anecdotes of Oyasama 81',\n       'Blogging Anecdotes of Oyasama 80',\n       'Blogging Anecdotes of Oyasama 79',\n       'Blogging Anecdotes of Oyasama 78',\n       'Blogging Anecdotes of Oyasama 77',\n       'Blogging Anecdotes of Oyasama 76',\n       'Blogging Anecdotes of Oyasama 75',\n       'Blogging Anecdotes of Oyasama 74',\n       'Blogging Anecdotes of Oyasama 73',\n       'Blogging Anecdotes of Oyasama 72',\n       'Blogging Anecdotes of Oyasama 71',\n       'Blogging Anecdotes of Oyasama 70',\n       'Blogging Anecdotes of Oyasama 69',\n       'Blogging Anecdotes of Oyasama 68',\n       'Blogging Anecdotes of Oyasama 67',\n       'Blogging Anecdotes of Oyasama 66',\n       'Blogging Anecdotes of Oyasama 65',\n       'Blogging Anecdotes of Oyasama 64',\n       'Blogging Anecdotes of Oyasama 63',\n       'Blogging Anecdotes of Oyasama 62',\n       'Blogging Anecdotes of Oyasama 61',\n       'Blogging Anecdotes of Oyasama 60',\n       'Blogging Anecdotes of Oyasama 59',\n       'Blogging Anecdotes of Oyasama 58',\n       'Blogging Anecdotes of Oyasama 57',\n       'Blogging Anecdotes of Oyasama 56',\n       'Blogging Anecdotes of Oyasama 55',\n       'Blogging Anecdotes of Oyasama 54',\n       'Blogging Anecdotes of Oyasama 53',\n       'Blogging Anecdotes of Oyasama 52',\n       'Blogging Anecdotes of Oyasama 51',\n       'Blogging Anecdotes of Oyasama 50',\n       'Blogging Anecdotes of Oyasama 49',\n       'Blogging Anecdotes of Oyasama 48',\n       'Blogging Anecdotes of Oyasama 47',\n       'Blogging Anecdotes of Oyasama 46',\n       'Blogging Anecdotes of Oyasama 45',\n       'Blogging Anecdotes of Oyasama 44',\n       'Blogging Anecdotes of Oyasama 43',\n       'Blogging Anecdotes of Oyasama 42',\n       'Blogging Anecdotes of Oyasama 41',\n       'Blogging Anecdotes of Oyasama 40',\n       'Blogging Anecdotes of Oyasama 39',\n       'Blogging Anecdotes of Oyasama 38',\n       'Blogging Anecdotes of Oyasama 37',\n       'Blogging Anecdotes of Oyasama 36',\n       'Blogging Anecdotes of Oyasama 35',\n       'Blogging Anecdotes of Oyasama 34',\n       'Blogging Anecdotes of Oyasama 30',\n       'Blogging Anecdotes of Oyasama 29',\n       'Blogging Anecdotes of Oyasama 28',\n       'Blogging Anecdotes of Oyasama 27',\n       'Blogging Anecdotes of Oyasama 26',\n       'Blogging Anecdotes of Oyasama 25',\n       'Blogging Anecdotes of Oyasama 24',\n       'Blogging Anecdotes of Oyasama 23',\n       'Blogging Anecdotes of Oyasama 22',\n       'Blogging Anecdotes of Oyasama 21',\n       'Blogging Anecdotes of Oyasama 20',\n       'Blogging Anecdotes of Oyasama 18 and 19',\n       'Blogging Anecdotes of Oyasama 17',\n       'Blogging Anecdotes of Oyasama 16',\n       'Blogging Anecdotes of Oyasama 14',\n       'Blogging Anecdotes of Oyasama 13',\n       'Blogging Anecdotes of Oyasama 12',\n       'Blogging Anecdotes of Oyasama 11',\n       'Blogging Anecdotes of Oyasama 10',\n       'Blogging Anecdotes of Oyasama 9',\n       'Blogging Anecdotes of Oyasama 8',\n       'Blogging Anecdotes of Oyasama 7',\n       'Blogging Anecdotes of Oyasama 6',\n       'Blogging Anecdotes of Oyasama 4 and 5',\n       'Blogging Anecdotes of Oyasama 3 (part two: Insight from Inoue Akio sensei)',\n       'Blogging Anecdotes of Oyasama 3 (part one)',\n       'Blogging Anecdotes of Oyasama 2',\n       'Blogging Anecdotes of Oyasama 1',\n       'Blogging Anecdotes of Oyasama 15'], dtype=object)"
     },
     "metadata": {},
     "execution_count": 41
    }
   ],
   "source": [
    "filter_dropdown(df[df.columns[0]][1])"
   ]
  },
  {
   "cell_type": "code",
   "execution_count": null,
   "metadata": {},
   "outputs": [],
   "source": []
  }
 ],
 "metadata": {
  "kernelspec": {
   "display_name": "Python 3",
   "language": "python",
   "name": "python3"
  },
  "language_info": {
   "codemirror_mode": {
    "name": "ipython",
    "version": 3
   },
   "file_extension": ".py",
   "mimetype": "text/x-python",
   "name": "python",
   "nbconvert_exporter": "python",
   "pygments_lexer": "ipython3",
   "version": "3.8.0-final"
  }
 },
 "nbformat": 4,
 "nbformat_minor": 2
}